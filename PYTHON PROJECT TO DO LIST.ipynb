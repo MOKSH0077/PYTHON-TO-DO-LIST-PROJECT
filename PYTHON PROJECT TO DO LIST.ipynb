{
 "cells": [
  {
   "cell_type": "markdown",
   "id": "0a029fa6-e9a6-4185-b428-3344e597921f",
   "metadata": {},
   "source": [
    "# PYTHON PROJECT : TO DO LIST\n"
   ]
  },
  {
   "cell_type": "code",
   "execution_count": 1,
   "id": "42ba79fd-311e-48b1-bbb6-a360cffb53fb",
   "metadata": {},
   "outputs": [],
   "source": [
    "task_list=[]\n"
   ]
  },
  {
   "cell_type": "code",
   "execution_count": 2,
   "id": "1094e98d-7d3e-425b-bd9e-42291a303d8d",
   "metadata": {},
   "outputs": [],
   "source": [
    "def add_task(task_list):\n",
    "    user_tasks=input(\"ADD AN TASK : \")\n",
    "    task_list.append(user_tasks)\n",
    "    "
   ]
  },
  {
   "cell_type": "code",
   "execution_count": 3,
   "id": "7bd738ce-5c68-4a2d-b442-ad67e907f047",
   "metadata": {},
   "outputs": [
    {
     "name": "stdin",
     "output_type": "stream",
     "text": [
      "ADD AN TASK :  v\n"
     ]
    }
   ],
   "source": [
    "add_task(task_list)\n"
   ]
  },
  {
   "cell_type": "code",
   "execution_count": 4,
   "id": "df9a66fc-ff3b-4bd9-bf4b-d4c7659d7f02",
   "metadata": {},
   "outputs": [
    {
     "data": {
      "text/plain": [
       "['v']"
      ]
     },
     "execution_count": 4,
     "metadata": {},
     "output_type": "execute_result"
    }
   ],
   "source": [
    "task_list"
   ]
  },
  {
   "cell_type": "code",
   "execution_count": 5,
   "id": "02642c8a-f141-4164-b34a-7a73476872ca",
   "metadata": {},
   "outputs": [],
   "source": [
    "def view_task(task_list):\n",
    "    counter=1\n",
    "    for x in task_list:\n",
    "        print(f'{counter}.{x}')\n",
    "        counter+=1"
   ]
  },
  {
   "cell_type": "code",
   "execution_count": 6,
   "id": "ee21234a-5131-487d-b2dd-12c1767e7292",
   "metadata": {},
   "outputs": [
    {
     "name": "stdout",
     "output_type": "stream",
     "text": [
      "1.v\n"
     ]
    }
   ],
   "source": [
    "view_task(task_list)"
   ]
  },
  {
   "cell_type": "code",
   "execution_count": 7,
   "id": "aed70996-a078-4d49-90c7-eedb1eeb8cd5",
   "metadata": {},
   "outputs": [],
   "source": [
    "def delete_task(task_list):\n",
    "    view_task(task_list)\n",
    "    try :\n",
    "        task_no=int(input(\"ENTER THE TASK NUMBER YOU WANT TO DELETE : \"))\n",
    "        if 1<=task_no<=len(task_list):\n",
    "            deleted_task=task_list.pop(task_no-1)\n",
    "            print(f'DELETED TASK : {deleted_task}')\n",
    "            print(view_task(task_list))\n",
    "        else:\n",
    "            print(\"WRONG INPUT\")\n",
    "    except ValueError:\n",
    "        print(\"ENTER A VALID INPUT\")\n",
    "        "
   ]
  },
  {
   "cell_type": "code",
   "execution_count": 8,
   "id": "38d599b3-b3e1-4ef9-9729-a77eca881485",
   "metadata": {},
   "outputs": [
    {
     "name": "stdout",
     "output_type": "stream",
     "text": [
      "1.v\n"
     ]
    },
    {
     "name": "stdin",
     "output_type": "stream",
     "text": [
      "ENTER THE TASK NUMBER YOU WANT TO DELETE :  1\n"
     ]
    },
    {
     "name": "stdout",
     "output_type": "stream",
     "text": [
      "DELETED TASK : v\n",
      "None\n"
     ]
    }
   ],
   "source": [
    "delete_task(task_list)"
   ]
  },
  {
   "cell_type": "code",
   "execution_count": 9,
   "id": "3a936352-b0dd-49de-8300-0d155861c3b8",
   "metadata": {
    "scrolled": true
   },
   "outputs": [
    {
     "name": "stdout",
     "output_type": "stream",
     "text": [
      "MENU:\n",
      "ADD TASKS\n",
      "VIEW TASKS\n",
      "DELETE TASKS\n",
      "EXIT\n"
     ]
    },
    {
     "name": "stdin",
     "output_type": "stream",
     "text": [
      "SELECT AN OPTION FROM 1 TO 4 : 3\n",
      "ENTER THE TASK NUMBER YOU WANT TO DELETE :  2\n"
     ]
    },
    {
     "name": "stdout",
     "output_type": "stream",
     "text": [
      "WRONG INPUT\n",
      "MENU:\n",
      "ADD TASKS\n",
      "VIEW TASKS\n",
      "DELETE TASKS\n",
      "EXIT\n"
     ]
    },
    {
     "name": "stdin",
     "output_type": "stream",
     "text": [
      "SELECT AN OPTION FROM 1 TO 4 : 4\n"
     ]
    },
    {
     "name": "stdout",
     "output_type": "stream",
     "text": [
      " EXITING THE MENU \n"
     ]
    }
   ],
   "source": [
    "def main():\n",
    "    task_list=[]\n",
    "    while True:\n",
    "        print(\"MENU:\")\n",
    "        print(\"ADD TASKS\")\n",
    "        print(\"VIEW TASKS\")\n",
    "        print(\"DELETE TASKS\")\n",
    "        print(\"EXIT\")\n",
    "        choice=int(input(\"SELECT AN OPTION FROM 1 TO 4 :\"))\n",
    "        if choice==1:\n",
    "            add_task(task_list)\n",
    "        elif choice==2:\n",
    "            view_task(task_list)\n",
    "        elif choice==3:\n",
    "            delete_task(task_list)\n",
    "        elif choice==4:\n",
    "            print(\" EXITING THE MENU \")\n",
    "            break\n",
    "        else:\n",
    "            print(\"SELECT AN VALID OPTION\")\n",
    "main()\n",
    "        "
   ]
  },
  {
   "cell_type": "code",
   "execution_count": 10,
   "id": "6eaaa752-620c-46c5-ba49-407abd96aaad",
   "metadata": {},
   "outputs": [
    {
     "name": "stdout",
     "output_type": "stream",
     "text": [
      "Menu:\n",
      "1. Add Task\n",
      "2. View Tasks\n",
      "3. Delete Task\n",
      "4. Exit\n"
     ]
    },
    {
     "name": "stdin",
     "output_type": "stream",
     "text": [
      "ENTER YOUR CHOICE:  4\n"
     ]
    },
    {
     "name": "stdout",
     "output_type": "stream",
     "text": [
      "EXITING THE PROGRAM\n"
     ]
    }
   ],
   "source": [
    "import os\n",
    "\n",
    "def clear_screen():\n",
    "    # Uses the appropriate system command to clear the terminal\n",
    "    os.system('cls' if os.name == 'nt' else 'clear')\n",
    "\n",
    "def add_task(tasks):\n",
    "    while True:\n",
    "        task = input(\"ADD THE TASK OR TYPE 'menu' TO RETURN TO MENU: \")\n",
    "        if task.lower() == 'menu':\n",
    "            break\n",
    "        tasks.append(task)\n",
    "        print(f\"Task '{task}' added.\")\n",
    "\n",
    "def view_tasks(tasks):\n",
    "    if not tasks:\n",
    "        print(\"NO TASK ADDED.\")\n",
    "    else:\n",
    "        print(\"\\nYOUR TASKS:\")\n",
    "        for index, task in enumerate(tasks, start=1):\n",
    "            print(f\"{index}. {task}\")\n",
    "\n",
    "def delete_task(tasks):\n",
    "    view_tasks(tasks)\n",
    "    try:\n",
    "        task_num = int(input(\"TYPE TASK NUMBER TO DELETE: \"))\n",
    "        if 1 <= task_num <= len(tasks):\n",
    "            removed_task = tasks.pop(task_num - 1)\n",
    "            print(f\"Task '{removed_task}' DELETED.\")\n",
    "        else:\n",
    "            print(\"Invalid task number.\")\n",
    "    except ValueError:\n",
    "        print(\"TYPE INVALID TASK NUMBER.\")\n",
    "\n",
    "def main():\n",
    "    tasks = []\n",
    "    while True:\n",
    "        clear_screen()  # Clears the screen on each iteration\n",
    "        print(\"Menu:\")\n",
    "        print(\"1. Add Task\")\n",
    "        print(\"2. View Tasks\")\n",
    "        print(\"3. Delete Task\")\n",
    "        print(\"4. Exit\")\n",
    "        \n",
    "        choice = input(\"ENTER YOUR CHOICE: \")\n",
    "        \n",
    "        if choice == '1':\n",
    "            add_task(tasks)\n",
    "        elif choice == '2':\n",
    "            view_tasks(tasks)\n",
    "            input(\"Press ENTER to return to the menu.\")\n",
    "        elif choice == '3':\n",
    "            delete_task(tasks)\n",
    "            input(\"Press ENTER to return to the menu.\")\n",
    "        elif choice == '4':\n",
    "            print(\"EXITING THE PROGRAM\")\n",
    "            break\n",
    "        else:\n",
    "            print(\"INVALID CHOICE, ENTER A VALID CHOICE.\")\n",
    "            input(\"Press ENTER to return to the menu.\")\n",
    "\n",
    "if __name__ == \"__main__\":\n",
    "    main()\n",
    "\n"
   ]
  },
  {
   "cell_type": "code",
   "execution_count": 1,
   "id": "03d4237e-3187-473d-b59c-9794086a8c13",
   "metadata": {},
   "outputs": [],
   "source": [
    "import tkinter as tk\n",
    "from tkinter import messagebox\n",
    "\n",
    "def add_task(tasks):\n",
    "    while True:\n",
    "        task = input(\"ADD THE TASK OR TYPE 'menu' TO RETURN TO MENU: \")\n",
    "        if task.lower() == 'menu':\n",
    "            break\n",
    "        tasks.append(task)\n",
    "        print(f\"Task '{task}' added.\")\n",
    "\n",
    "def view_tasks(tasks):\n",
    "    if not tasks:\n",
    "        print(\"NO TASK ADDED.\")\n",
    "    else:\n",
    "        print(\"\\nYOUR TASKS:\")\n",
    "        counter=1\n",
    "        for x in tasks:\n",
    "            print(f\"{counter}. {task}\")\n",
    "\n",
    "def delete_task(tasks):\n",
    "    view_tasks(tasks)\n",
    "    try:\n",
    "        task_num = int(input(\"TYPE TASK NUMBER TO DELETE: \"))\n",
    "        if 1 <= task_num <= len(tasks):\n",
    "            removed_task = tasks.pop(task_num - 1)\n",
    "            print(f\"Task '{removed_task}' DELETED.\")\n",
    "        else:\n",
    "            print(\"Invalid task number.\")\n",
    "    except ValueError:\n",
    "        print(\"TYPE INVALID TASK NUMBER.\")\n",
    "\n",
    "def add_task_gui():\n",
    "    task = task_entry.get()\n",
    "    if task:\n",
    "        var = tk.IntVar()  # Create a variable for the checkbox\n",
    "        frame = tk.Frame(task_listbox, bg=\"black\")  # Frame for checkbox + task\n",
    "        checkbox = tk.Checkbutton(frame, variable=var, bg=\"black\", fg=\"white\", selectcolor=\"black\")\n",
    "        checkbox.pack(side=\"left\")\n",
    "        label = tk.Label(frame, text=task, fg=\"white\", bg=\"black\", font=(\"Arial\", 14))\n",
    "        label.pack(side=\"left\", padx=5)\n",
    "        frame.pack(anchor=\"w\", padx=10, pady=2)\n",
    "        tasks_gui.append((frame, var))  # Store for deletion\n",
    "        task_entry.delete(0, tk.END)\n",
    "    else:\n",
    "        messagebox.showwarning(\"Warning\", \"Task cannot be empty!\")\n",
    "\n",
    "def delete_task_gui():\n",
    "    global tasks_gui\n",
    "    to_remove = [frame for frame, var in tasks_gui if var.get()]\n",
    "    \n",
    "    for frame in to_remove:\n",
    "        frame.destroy()  # Remove the selected task from GUI\n",
    "    \n",
    "    tasks_gui = [(frame, var) for frame, var in tasks_gui if frame not in to_remove]  # Update the list\n",
    "\n",
    "def gui_main():\n",
    "    global task_entry, task_listbox, tasks_gui\n",
    "\n",
    "    root = tk.Tk()\n",
    "    root.title(\"To-Do List\")\n",
    "    root.geometry(\"400x400\")\n",
    "    root.configure(bg=\"black\")  \n",
    "\n",
    "    tk.Label(root, text=\"Enter Task:\", fg=\"white\", bg=\"black\", font=(\"Arial\", 12, \"bold\")).pack(pady=5)\n",
    "    \n",
    "    task_entry = tk.Entry(root, width=40, font=(\"Arial\", 12))\n",
    "    task_entry.pack(pady=5)\n",
    "    \n",
    "    tk.Button(root, text=\"Add Task\", command=add_task_gui, bg=\"#27ae60\", fg=\"white\", font=(\"Arial\", 12, \"bold\"), padx=10, pady=5).pack(pady=5)\n",
    "    \n",
    "    task_listbox = tk.Frame(root, bg=\"black\")  # Use Frame instead of Listbox\n",
    "    task_listbox.pack(pady=5)\n",
    "    \n",
    "    tk.Button(root, text=\"Delete Selected Tasks\", command=delete_task_gui, bg=\"#e74c3c\", fg=\"white\", font=(\"Arial\", 12, \"bold\"), padx=10, pady=5).pack(pady=5)\n",
    "    \n",
    "    tasks_gui = []  # Store tasks with checkboxes\n",
    "\n",
    "    root.mainloop()\n",
    "\n",
    "def main():\n",
    "    tasks = []\n",
    "    while True:\n",
    "        print(\"Menu:\")\n",
    "        print(\"1. Add Task\")\n",
    "        print(\"2. View Tasks\")\n",
    "        print(\"3. Delete Task\")\n",
    "        print(\"4. Exit\")\n",
    "        \n",
    "        choice = input(\"ENTER YOUR CHOICE: \")\n",
    "        \n",
    "        if choice == '1':\n",
    "            add_task(tasks)\n",
    "        elif choice == '2':\n",
    "            view_tasks(tasks)\n",
    "            input(\"Press ENTER to return to the menu.\")\n",
    "        elif choice == '3':\n",
    "            delete_task(tasks)\n",
    "            input(\"Press ENTER to return to the menu.\")\n",
    "        elif choice == '4':\n",
    "            print(\"EXITING THE PROGRAM\")\n",
    "            break\n",
    "        else:\n",
    "            print(\"INVALID CHOICE, ENTER A VALID CHOICE.\")\n",
    "            input(\"Press ENTER to return to the menu.\")\n",
    "\n",
    "if __name__ == \"__main__\":\n",
    "    from threading import Thread\n",
    "    gui_thread = Thread(target=gui_main, daemon=True)\n",
    "    gui_thread.start()\n"
   ]
  },
  {
   "cell_type": "code",
   "execution_count": 1,
   "id": "6112ac27-ae36-4de3-872c-01cf8a02d974",
   "metadata": {},
   "outputs": [],
   "source": [
    "import tkinter as tk\n",
    "from tkinter import messagebox\n",
    "\n",
    "def add_task(tasks):\n",
    "    while True:\n",
    "        task = input(\"ADD THE TASK OR TYPE 'menu' TO RETURN TO MENU: \")\n",
    "        if task.lower() == 'menu':\n",
    "            break\n",
    "        tasks.append(task)\n",
    "        print(f\"Task '{task}' added.\")\n",
    "\n",
    "def view_tasks(tasks):\n",
    "    if not tasks:\n",
    "        print(\"NO TASK ADDED.\")\n",
    "    else:\n",
    "        print(\"\\nYOUR TASKS:\")\n",
    "        counter=1\n",
    "        for x in tasks:\n",
    "            print(f\"{counter}. {task}\")\n",
    "\n",
    "def delete_task(tasks):\n",
    "    view_tasks(tasks)\n",
    "    try:\n",
    "        task_num = int(input(\"TYPE TASK NUMBER TO DELETE: \"))\n",
    "        if 1 <= task_num <= len(tasks):\n",
    "            removed_task = tasks.pop(task_num - 1)\n",
    "            print(f\"Task '{removed_task}' DELETED.\")\n",
    "        else:\n",
    "            print(\"Invalid task number.\")\n",
    "    except ValueError:\n",
    "        print(\"TYPE INVALID TASK NUMBER.\")\n",
    "\n",
    "def add_task_gui():\n",
    "    task = task_entry.get()\n",
    "    if task:\n",
    "        var = tk.IntVar()  # Create a variable for the checkbox\n",
    "        frame = tk.Frame(task_listbox, bg=\"black\")  # Frame for checkbox + task\n",
    "        checkbox = tk.Checkbutton(frame, variable=var, bg=\"black\", fg=\"white\", selectcolor=\"black\")\n",
    "        checkbox.pack(side=\"left\")\n",
    "        label = tk.Label(frame, text=task, fg=\"white\", bg=\"black\", font=(\"Arial\", 14))\n",
    "        label.pack(side=\"left\", padx=5)\n",
    "        frame.pack(anchor=\"w\", padx=10, pady=2)\n",
    "        tasks_gui.append((frame, var))  # Store for deletion\n",
    "        task_entry.delete(0, tk.END)\n",
    "    else:\n",
    "        messagebox.showwarning(\"Warning\", \"Task cannot be empty!\")\n",
    "\n",
    "def delete_task_gui():\n",
    "    global tasks_gui\n",
    "    to_remove = [frame for frame, var in tasks_gui if var.get()]\n",
    "    \n",
    "    for frame in to_remove:\n",
    "        frame.destroy()  # Remove the selected task from GUI\n",
    "    \n",
    "    tasks_gui = [(frame, var) for frame, var in tasks_gui if frame not in to_remove]  # Update the list\n",
    "\n",
    "def gui_main():\n",
    "    global task_entry, task_listbox, tasks_gui\n",
    "\n",
    "    root = tk.Tk()\n",
    "    root.title(\"To-Do List\")\n",
    "    root.geometry(\"400x400\")\n",
    "    root.configure(bg=\"black\")  \n",
    "\n",
    "    tk.Label(root, text=\"Enter Task:\", fg=\"white\", bg=\"black\", font=(\"Arial\", 12, \"bold\")).pack(pady=5)\n",
    "    \n",
    "    task_entry = tk.Entry(root, width=40, font=(\"Arial\", 12))\n",
    "    task_entry.pack(pady=5)\n",
    "    \n",
    "    tk.Button(root, text=\"Add Task\", command=add_task_gui, bg=\"#27ae60\", fg=\"white\", font=(\"Arial\", 12, \"bold\"), padx=10, pady=5).pack(pady=5)\n",
    "    \n",
    "    task_listbox = tk.Frame(root, bg=\"black\")  # Use Frame instead of Listbox\n",
    "    task_listbox.pack(pady=5)\n",
    "    \n",
    "    tk.Button(root, text=\"Delete Selected Tasks\", command=delete_task_gui, bg=\"#e74c3c\", fg=\"white\", font=(\"Arial\", 12, \"bold\"), padx=10, pady=5).pack(pady=5)\n",
    "    \n",
    "    tasks_gui = []  # Store tasks with checkboxes\n",
    "\n",
    "    root.mainloop()\n",
    "\n",
    "def main():\n",
    "    tasks = []\n",
    "    while True:\n",
    "        print(\"Menu:\")\n",
    "        print(\"1. Add Task\")\n",
    "        print(\"2. View Tasks\")\n",
    "        print(\"3. Delete Task\")\n",
    "        print(\"4. Exit\")\n",
    "        \n",
    "        choice = input(\"ENTER YOUR CHOICE: \")\n",
    "        \n",
    "        if choice == '1':\n",
    "            add_task(tasks)\n",
    "        elif choice == '2':\n",
    "            view_tasks(tasks)\n",
    "            input(\"Press ENTER to return to the menu.\")\n",
    "        elif choice == '3':\n",
    "            delete_task(tasks)\n",
    "            input(\"Press ENTER to return to the menu.\")\n",
    "        elif choice == '4':\n",
    "            print(\"EXITING THE PROGRAM\")\n",
    "            break\n",
    "        else:\n",
    "            print(\"INVALID CHOICE, ENTER A VALID CHOICE.\")\n",
    "            input(\"Press ENTER to return to the menu.\")\n",
    "\n",
    "if __name__ == \"__main__\":\n",
    "    from threading import Thread\n",
    "    gui_thread = Thread(target=gui_main, daemon=True)\n",
    "    gui_thread.start()\n"
   ]
  },
  {
   "cell_type": "code",
   "execution_count": null,
   "id": "8ce9b81a-8782-447b-b232-ed31795b8c46",
   "metadata": {},
   "outputs": [],
   "source": []
  }
 ],
 "metadata": {
  "kernelspec": {
   "display_name": "Python 3 (ipykernel)",
   "language": "python",
   "name": "python3"
  },
  "language_info": {
   "codemirror_mode": {
    "name": "ipython",
    "version": 3
   },
   "file_extension": ".py",
   "mimetype": "text/x-python",
   "name": "python",
   "nbconvert_exporter": "python",
   "pygments_lexer": "ipython3",
   "version": "3.11.7"
  }
 },
 "nbformat": 4,
 "nbformat_minor": 5
}
